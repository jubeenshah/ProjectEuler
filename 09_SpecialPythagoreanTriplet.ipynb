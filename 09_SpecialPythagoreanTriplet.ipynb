{
 "cells": [
  {
   "cell_type": "code",
   "execution_count": 126,
   "metadata": {
    "collapsed": false
   },
   "outputs": [
    {
     "name": "stdout",
     "output_type": "stream",
     "text": [
      "1\n",
      "1000\n",
      "31875000\n"
     ]
    }
   ],
   "source": [
    "import sys\n",
    "\n",
    "\n",
    "t = int(input().strip())\n",
    "for a0 in range(t):\n",
    "    n = int(input().strip())\n",
    "    potentialValuesForA = []\n",
    "    potentialValuesForB = []\n",
    "    potentialValuesForC = []\n",
    "    for a in make_list(n):\n",
    "        for b in make_list(n):\n",
    "            c = n - a - b\n",
    "            if c > a and c > b:\n",
    "                potentialValuesForA.append(a)\n",
    "                potentialValuesForB.append(b)\n",
    "                potentialValuesForC.append(c)\n",
    "    product = -1\n",
    "    for i in range(0,len(potentialValuesForA)):\n",
    "        if potentialValuesForA[i] ** 2 + potentialValuesForB[i] ** 2 == potentialValuesForC[i] ** 2:\n",
    "            product = potentialValuesForA[i]*potentialValuesForB[i]*potentialValuesForC[i]\n",
    "    print(product)\n",
    "    \n",
    "def make_list(n):\n",
    "    listOfDigits = []\n",
    "    for i in range(1,n+1):\n",
    "        listOfDigits.append(i)    \n",
    "    return(listOfDigits)\n"
   ]
  },
  {
   "cell_type": "code",
   "execution_count": null,
   "metadata": {
    "collapsed": true
   },
   "outputs": [],
   "source": []
  }
 ],
 "metadata": {
  "kernelspec": {
   "display_name": "Python 3",
   "language": "python",
   "name": "python3"
  },
  "language_info": {
   "codemirror_mode": {
    "name": "ipython",
    "version": 3
   },
   "file_extension": ".py",
   "mimetype": "text/x-python",
   "name": "python",
   "nbconvert_exporter": "python",
   "pygments_lexer": "ipython3",
   "version": "3.6.0"
  }
 },
 "nbformat": 4,
 "nbformat_minor": 2
}
