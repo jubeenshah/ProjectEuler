{
 "cells": [
  {
   "cell_type": "code",
   "execution_count": 242,
   "metadata": {
    "collapsed": false
   },
   "outputs": [],
   "source": [
    "import time\n",
    "GlobalMax = 0\n",
    "\n",
    "def passInAlgorithm(n):\n",
    "    if n % 2 == 0:\n",
    "        n = n / 2\n",
    "    else:\n",
    "        n = (3 * n) + 1\n",
    "    return n\n",
    "\n",
    "def startCalculating(startingNumber):\n",
    "    numbersInList = []\n",
    "    numbersInList.append(startingNumber)\n",
    "    largestChainDict = {}\n",
    "    num = 2\n",
    "    retrieveStartingNumber = startingNumber\n",
    "    currentMax = 0\n",
    "    global GlobalMax\n",
    "    while num > 1:\n",
    "        num = int(passInAlgorithm(startingNumber))\n",
    "        numbersInList.append(num)\n",
    "        startingNumber = num\n",
    "    currentMax = len(numbersInList)\n",
    "    if currentMax > GlobalMax:\n",
    "        GlobalMax = currentMax\n",
    "        largestChainDict.clear()\n",
    "        largestChainDict[GlobalMax] = retrieveStartingNumber\n",
    "        print(largestChainDict)    \n",
    "        \n"
   ]
  },
  {
   "cell_type": "code",
   "execution_count": 243,
   "metadata": {
    "collapsed": false
   },
   "outputs": [
    {
     "name": "stdout",
     "output_type": "stream",
     "text": [
      "{54: 600000}\n",
      "{90: 600001}\n",
      "{191: 600002}\n",
      "{235: 600009}\n",
      "{310: 600048}\n",
      "{372: 600060}\n",
      "{403: 601327}\n",
      "{447: 615017}\n",
      "{509: 626331}\n",
      "{525: 837799}\n",
      "--- 31.38312792778015 seconds ---\n"
     ]
    }
   ],
   "source": [
    "start_time = time.time()\n",
    "#T = int(input())\n",
    "for i in range (500000,999999):\n",
    "    #n = int(input())\n",
    "    i = i + 100000\n",
    "    startCalculating(i)\n",
    "print(\"--- %s seconds ---\" % (time.time() - start_time))"
   ]
  }
 ],
 "metadata": {
  "kernelspec": {
   "display_name": "Python 3",
   "language": "python",
   "name": "python3"
  },
  "language_info": {
   "codemirror_mode": {
    "name": "ipython",
    "version": 3
   },
   "file_extension": ".py",
   "mimetype": "text/x-python",
   "name": "python",
   "nbconvert_exporter": "python",
   "pygments_lexer": "ipython3",
   "version": "3.6.0"
  }
 },
 "nbformat": 4,
 "nbformat_minor": 2
}
