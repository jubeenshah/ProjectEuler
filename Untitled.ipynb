{
 "cells": [
  {
   "cell_type": "code",
   "execution_count": 40,
   "metadata": {
    "collapsed": true
   },
   "outputs": [],
   "source": [
    "import math\n",
    "dictFib = {}\n",
    "dictionaryOfDigitsAndFib = []\n",
    "def fib(n):\n",
    "    if n in dictFib:\n",
    "        return dictFib[n]\n",
    "    else:\n",
    "        if n<=1:\n",
    "            dictFib[n] = 1\n",
    "            dictionaryOfDigitsAndFib.append(n)\n",
    "            return n\n",
    "        else:\n",
    "            dictFib[n] = (fib(n-1) + fib(n-2))\n",
    "            dictionaryOfDigitsAndFib.append(fib(n-1) + fib(n-2))\n",
    "            return dictFib[n]"
   ]
  },
  {
   "cell_type": "code",
   "execution_count": 41,
   "metadata": {},
   "outputs": [],
   "source": [
    "def printNthDigitFibonacciNumber(numberOfDigitsNeeded):\n",
    "    stop = False\n",
    "    n = 1\n",
    "    while stop == False:\n",
    "        currentFib = fib(n)\n",
    "        digits = int(math.log10(currentFib))+1\n",
    "        if digits == numberOfDigitsNeeded:\n",
    "            stop = True\n",
    "            print(dictionaryOfDigitsAndFib.index(currentFib))\n",
    "        else:\n",
    "            n = n + 1"
   ]
  },
  {
   "cell_type": "code",
   "execution_count": 44,
   "metadata": {},
   "outputs": [
    {
     "name": "stdout",
     "output_type": "stream",
     "text": [
      "1\n",
      "3\n",
      "12\n"
     ]
    }
   ],
   "source": [
    "numberOfTestCases = int(input())\n",
    "for _ in range(numberOfTestCases):\n",
    "    numberOfDigitsNeeded = int(input())\n",
    "    printNthDigitFibonacciNumber(numberOfDigitsNeeded)"
   ]
  },
  {
   "cell_type": "code",
   "execution_count": 29,
   "metadata": {},
   "outputs": [
    {
     "data": {
      "text/plain": [
       "12"
      ]
     },
     "execution_count": 29,
     "metadata": {},
     "output_type": "execute_result"
    }
   ],
   "source": []
  },
  {
   "cell_type": "code",
   "execution_count": null,
   "metadata": {
    "collapsed": true
   },
   "outputs": [],
   "source": []
  }
 ],
 "metadata": {
  "kernelspec": {
   "display_name": "Python 3",
   "language": "python",
   "name": "python3"
  },
  "language_info": {
   "codemirror_mode": {
    "name": "ipython",
    "version": 3
   },
   "file_extension": ".py",
   "mimetype": "text/x-python",
   "name": "python",
   "nbconvert_exporter": "python",
   "pygments_lexer": "ipython3",
   "version": "3.6.0"
  }
 },
 "nbformat": 4,
 "nbformat_minor": 2
}
