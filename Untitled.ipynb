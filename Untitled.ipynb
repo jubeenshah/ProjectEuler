{
 "cells": [
  {
   "cell_type": "code",
   "execution_count": 25,
   "metadata": {
    "collapsed": false
   },
   "outputs": [
    {
     "name": "stdout",
     "output_type": "stream",
     "text": [
      "1\n",
      "5\n",
      "1\n",
      "['1']\n",
      "1 2\n",
      "['1', '2']\n",
      "1 2 3\n",
      "['1', '2', '3']\n",
      "1 2 3 4\n",
      "['1', '2', '3', '4']\n",
      "1 2 3 4 5\n",
      "['1', '2', '3', '4', '5']\n",
      "[['1'], ['1', '2'], ['1', '2', '3'], ['1', '2', '3', '4'], ['1', '2', '3', '4', '5']]\n"
     ]
    }
   ],
   "source": [
    "count = 1\n",
    "listNumber = []\n",
    "t = int(input().strip())\n",
    "for a0 in range(t):\n",
    "    numberOfLine = int(input())\n",
    "    for i in range (1,numberOfLine+1):\n",
    "        tempList = []\n",
    "        tempList.append((input().split()))\n",
    "        for \n",
    "        listNumber.extend(tempList)\n",
    "        \n",
    "    print(listNumber)\n",
    "        \n",
    "        "
   ]
  },
  {
   "cell_type": "markdown",
   "metadata": {},
   "source": [
    "# "
   ]
  },
  {
   "cell_type": "code",
   "execution_count": 18,
   "metadata": {
    "collapsed": false
   },
   "outputs": [
    {
     "name": "stdout",
     "output_type": "stream",
     "text": [
      "[['1']]\n"
     ]
    }
   ],
   "source": [
    "\n"
   ]
  },
  {
   "cell_type": "code",
   "execution_count": null,
   "metadata": {
    "collapsed": true
   },
   "outputs": [],
   "source": []
  }
 ],
 "metadata": {
  "kernelspec": {
   "display_name": "Python 3",
   "language": "python",
   "name": "python3"
  },
  "language_info": {
   "codemirror_mode": {
    "name": "ipython",
    "version": 3
   },
   "file_extension": ".py",
   "mimetype": "text/x-python",
   "name": "python",
   "nbconvert_exporter": "python",
   "pygments_lexer": "ipython3",
   "version": "3.6.0"
  }
 },
 "nbformat": 4,
 "nbformat_minor": 2
}
