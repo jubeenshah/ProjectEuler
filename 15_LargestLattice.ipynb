{
 "cells": [
  {
   "cell_type": "code",
   "execution_count": 1,
   "metadata": {
    "collapsed": false
   },
   "outputs": [
    {
     "name": "stdout",
     "output_type": "stream",
     "text": [
      "137846528820.0\n",
      "0.0008800029754638672\n"
     ]
    }
   ],
   "source": [
    "import time\n",
    "start=time.time()\n",
    "def binom(a):\n",
    "    def factorial(b):\n",
    "        c=1\n",
    "        for i in range(1,(b+1)):\n",
    "            c *= i\n",
    "        return c\n",
    "    return (factorial(2*a)/(factorial(a)**2))\n",
    "print(binom(20))\n",
    "end=time.time()\n",
    "print(end-start)"
   ]
  },
  {
   "cell_type": "code",
   "execution_count": null,
   "metadata": {
    "collapsed": true
   },
   "outputs": [],
   "source": []
  }
 ],
 "metadata": {
  "kernelspec": {
   "display_name": "Python 3",
   "language": "python",
   "name": "python3"
  },
  "language_info": {
   "codemirror_mode": {
    "name": "ipython",
    "version": 3
   },
   "file_extension": ".py",
   "mimetype": "text/x-python",
   "name": "python",
   "nbconvert_exporter": "python",
   "pygments_lexer": "ipython3",
   "version": "3.6.0"
  }
 },
 "nbformat": 4,
 "nbformat_minor": 2
}
