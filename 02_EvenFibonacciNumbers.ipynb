{
 "cells": [
  {
   "cell_type": "code",
   "execution_count": 76,
   "metadata": {
    "collapsed": false
   },
   "outputs": [],
   "source": [
    "a = 1 \n",
    "b = 2\n",
    "\n",
    "def fibo(a,b):\n",
    "    c = 0\n",
    "    sum = 2\n",
    "    str1 = \"\"\n",
    "    str1 = str1 + \" \" + str(a)\n",
    "    str1 = str1 + \" \" + str(b)\n",
    "    while (c <4000000):\n",
    "\n",
    "        #print(a,b,c)\n",
    "        c = a + b\n",
    "        if c % 2 == 0:\n",
    "            sum = sum + c\n",
    "        str1 = str1 + \" \" + str(c)\n",
    "        a = b\n",
    "        b = c\n",
    "        #print(a,b,c)\n",
    "    print(sum)\n",
    "    print(str1)\n",
    "    "
   ]
  },
  {
   "cell_type": "code",
   "execution_count": 77,
   "metadata": {
    "collapsed": false
   },
   "outputs": [
    {
     "name": "stdout",
     "output_type": "stream",
     "text": [
      "4613732\n",
      " 1 2 3 5 8 13 21 34 55 89 144 233 377 610 987 1597 2584 4181 6765 10946 17711 28657 46368 75025 121393 196418 317811 514229 832040 1346269 2178309 3524578 5702887\n"
     ]
    }
   ],
   "source": [
    "fibo(1,2)"
   ]
  },
  {
   "cell_type": "code",
   "execution_count": null,
   "metadata": {
    "collapsed": false
   },
   "outputs": [],
   "source": []
  },
  {
   "cell_type": "code",
   "execution_count": null,
   "metadata": {
    "collapsed": false
   },
   "outputs": [],
   "source": []
  },
  {
   "cell_type": "code",
   "execution_count": null,
   "metadata": {
    "collapsed": true
   },
   "outputs": [],
   "source": []
  }
 ],
 "metadata": {
  "kernelspec": {
   "display_name": "Python 3",
   "language": "python",
   "name": "python3"
  }
 },
 "nbformat": 4,
 "nbformat_minor": 2
}
