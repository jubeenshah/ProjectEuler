{
 "cells": [
  {
   "cell_type": "code",
   "execution_count": 42,
   "metadata": {
    "collapsed": true
   },
   "outputs": [],
   "source": [
    "\n",
    "def check_prime(num):\n",
    "    if num > 2 and num % 2 == 0:\n",
    "        return False\n",
    "    else:\n",
    "        # I tried using a generator here,\n",
    "        # but it is slower by a noticeable amount.\n",
    "        for i in range(3, int(math.sqrt(num)) + 1, 2):\n",
    "            if num % i == 0:\n",
    "                return False\n",
    "    return True\n"
   ]
  },
  {
   "cell_type": "code",
   "execution_count": 47,
   "metadata": {
    "collapsed": false
   },
   "outputs": [],
   "source": [
    "def find_sum(limit):\n",
    "    sum = 0\n",
    "    for i in range(2, limit+1):\n",
    "        if check_prime(i):\n",
    "            sum += i\n",
    "    \n",
    "    return sum"
   ]
  },
  {
   "cell_type": "code",
   "execution_count": 49,
   "metadata": {
    "collapsed": false
   },
   "outputs": [
    {
     "name": "stdout",
     "output_type": "stream",
     "text": [
      "142913828922\n",
      "10\n"
     ]
    }
   ],
   "source": [
    "import math\n",
    "if __name__ == '__main__':\n",
    "\n",
    "    # Find the sum of all primes below two million\n",
    "    print(find_sum(2000000))\n",
    "\n",
    "    # confirm above is correct by solving example\n",
    "    # and verifying results are euqal to that presented\n",
    "    # by example\n",
    "    print(find_sum(5))"
   ]
  }
 ],
 "metadata": {
  "kernelspec": {
   "display_name": "Python 3",
   "language": "python",
   "name": "python3"
  },
  "language_info": {
   "codemirror_mode": {
    "name": "ipython",
    "version": 3
   },
   "file_extension": ".py",
   "mimetype": "text/x-python",
   "name": "python",
   "nbconvert_exporter": "python",
   "pygments_lexer": "ipython3",
   "version": "3.6.0"
  }
 },
 "nbformat": 4,
 "nbformat_minor": 2
}
