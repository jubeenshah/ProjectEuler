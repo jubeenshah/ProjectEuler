{
 "cells": [
  {
   "cell_type": "markdown",
   "metadata": {},
   "source": [
    "#include <cmath>\n",
    "#include <cstdio>\n",
    "#include <vector>\n",
    "#include <iostream>\n",
    "#include <algorithm>\n",
    "#include <map>\n",
    "using namespace std;\n",
    "\n",
    "\n",
    "int main() {\n",
    "    map<int,int>m;\n",
    "    vector<int>v;\n",
    "    int N=100000,sul=0;\n",
    "    for(int i=12;i<=N;i++){\n",
    "        int x=0;\n",
    "        int sum=0;\n",
    "        for(int j=2;j*j<=i;j++){\n",
    "            if(i%j==0){\n",
    "                sum+=j;\n",
    "                if(j*j<i)sum+=i/j;\n",
    "            }\n",
    "            if(sum>i)break;\n",
    "        }\n",
    "        if(sum>i){\n",
    "            m[i]=1;\n",
    "            v.push_back(i);\n",
    "            sul++;\n",
    "        }\n",
    "    }\n",
    "  //  cout<<sul<<endl;\n",
    "    \n",
    "    int t;\n",
    "    cin>>t;\n",
    "    while(t--){\n",
    "        int x;\n",
    "        cin>>x;\n",
    "        int flag=0;\n",
    "        for(int i=0;i<v.size();i++){\n",
    "            if(v[i]>x)break;\n",
    "            if(m[x-v[i]]){flag=1;break;}\n",
    "        }\n",
    "        if(flag)cout<<\"YES\"<<endl;else\n",
    "            cout<<\"NO\"<<endl;\n",
    "    }\n",
    "    \n",
    "    return 0;\n",
    "}"
   ]
  },
  {
   "cell_type": "markdown",
   "metadata": {},
   "source": []
  }
 ],
 "metadata": {
  "kernelspec": {
   "display_name": "Python 3",
   "language": "python",
   "name": "python3"
  },
  "language_info": {
   "codemirror_mode": {
    "name": "ipython",
    "version": 3
   },
   "file_extension": ".py",
   "mimetype": "text/x-python",
   "name": "python",
   "nbconvert_exporter": "python",
   "pygments_lexer": "ipython3",
   "version": "3.6.0"
  }
 },
 "nbformat": 4,
 "nbformat_minor": 2
}
