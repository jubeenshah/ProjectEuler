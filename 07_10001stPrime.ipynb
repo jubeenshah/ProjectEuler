{
 "cells": [
  {
   "cell_type": "code",
   "execution_count": 6,
   "metadata": {
    "collapsed": false
   },
   "outputs": [
    {
     "name": "stdout",
     "output_type": "stream",
     "text": [
      "104743\n"
     ]
    }
   ],
   "source": [
    "def eratosthenes():\n",
    "    D = {}  \n",
    "    q = 2   \n",
    "    while 1:\n",
    "        if q not in D:\n",
    "            yield q        \n",
    "            D[q*q] = [q]   \n",
    "        else:\n",
    "            for p in D[q]: \n",
    "                D.setdefault(p+q,[]).append(p)\n",
    "            del D[q]       \n",
    "        q += 1\n",
    "\n",
    "def nth_prime(n):\n",
    "    for i, prime in enumerate(eratosthenes()):\n",
    "        if i == n - 1:\n",
    "            return prime\n",
    "\n",
    "print(nth_prime(10001))"
   ]
  },
  {
   "cell_type": "code",
   "execution_count": null,
   "metadata": {
    "collapsed": true
   },
   "outputs": [],
   "source": []
  }
 ],
 "metadata": {
  "kernelspec": {
   "display_name": "Python 3",
   "language": "python",
   "name": "python3"
  },
  "language_info": {
   "codemirror_mode": {
    "name": "ipython",
    "version": 3
   },
   "file_extension": ".py",
   "mimetype": "text/x-python",
   "name": "python",
   "nbconvert_exporter": "python",
   "pygments_lexer": "ipython3",
   "version": "3.6.0"
  }
 },
 "nbformat": 4,
 "nbformat_minor": 2
}
