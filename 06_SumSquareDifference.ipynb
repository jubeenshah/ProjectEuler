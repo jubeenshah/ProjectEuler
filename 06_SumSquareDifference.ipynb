{
 "cells": [
  {
   "cell_type": "code",
   "execution_count": 30,
   "metadata": {
    "collapsed": false
   },
   "outputs": [
    {
     "name": "stdout",
     "output_type": "stream",
     "text": [
      "250166416500\n",
      "--- 0.0014488697052001953 seconds ---\n"
     ]
    }
   ],
   "source": [
    "import time\n",
    "import math\n",
    "\n",
    "start_time = time.time()\n",
    "\n",
    "n = 1000\n",
    "sumOfSqaures = 0\n",
    "squareOfSum = 0\n",
    "for i in range (1,n+1):\n",
    "    sumOfSqaures = sumOfSqaures + int(math.pow(i,2))\n",
    "    squareOfSum = i + squareOfSum\n",
    "\n",
    "#print(sumOfSqaures)\n",
    "print((int(math.pow(squareOfSum,2))) - sumOfSqaures )\n",
    "\n",
    "\n",
    "\n",
    "print(\"--- %s seconds ---\" % (time.time() - start_time))"
   ]
  },
  {
   "cell_type": "code",
   "execution_count": null,
   "metadata": {
    "collapsed": true
   },
   "outputs": [],
   "source": []
  }
 ],
 "metadata": {
  "kernelspec": {
   "display_name": "Python 3",
   "language": "python",
   "name": "python3"
  },
  "language_info": {
   "codemirror_mode": {
    "name": "ipython",
    "version": 3
   },
   "file_extension": ".py",
   "mimetype": "text/x-python",
   "name": "python",
   "nbconvert_exporter": "python",
   "pygments_lexer": "ipython3",
   "version": "3.6.0"
  }
 },
 "nbformat": 4,
 "nbformat_minor": 2
}
